{
 "cells": [
  {
   "cell_type": "code",
   "execution_count": 10,
   "id": "1e54687b",
   "metadata": {},
   "outputs": [
    {
     "name": "stdout",
     "output_type": "stream",
     "text": [
      "The sum of 1.5, 6.3 and 4.1 is 11\n"
     ]
    }
   ],
   "source": [
    "number1 = 1.5\n",
    "number2 = 6.3\n",
    "number3 = 4.1\n",
    "\n",
    "sum3 = int(number1) + int(number2) + int(number3)\n",
    "# Using positional index\n",
    "print('The sum of {0}, {1} and {2} is {3}'.format(number1, number2, number3, sum3))"
   ]
  },
  {
   "cell_type": "code",
   "execution_count": 8,
   "id": "048df40a",
   "metadata": {},
   "outputs": [
    {
     "name": "stdout",
     "output_type": "stream",
     "text": [
      "Enter first number: 1.0\n",
      "Enter second number: 2.1\n",
      "Enter third number: 3.2\n",
      "The sum of 1.0, 2.1 and 3.2 is 6.300000000000001\n"
     ]
    }
   ],
   "source": [
    "number1 = input('Enter first number: ')\n",
    "number2 = input('Enter second number: ')\n",
    "number3 = input('Enter third number: ')\n",
    "\n",
    "sum3 = float(number1) + float(number2)  + float(number3)\n",
    "# Using positional index\n",
    "print('The sum of {0}, {1} and {2} is {3}'.format(number1, number2, number3, sum3))"
   ]
  }
 ],
 "metadata": {
  "kernelspec": {
   "display_name": "Python 3 (ipykernel)",
   "language": "python",
   "name": "python3"
  },
  "language_info": {
   "codemirror_mode": {
    "name": "ipython",
    "version": 3
   },
   "file_extension": ".py",
   "mimetype": "text/x-python",
   "name": "python",
   "nbconvert_exporter": "python",
   "pygments_lexer": "ipython3",
   "version": "3.9.12"
  }
 },
 "nbformat": 4,
 "nbformat_minor": 5
}
