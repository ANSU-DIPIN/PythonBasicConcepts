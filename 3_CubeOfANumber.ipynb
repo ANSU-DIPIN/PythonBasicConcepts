{
 "cells": [
  {
   "cell_type": "code",
   "execution_count": 14,
   "id": "1e54687b",
   "metadata": {},
   "outputs": [
    {
     "name": "stdout",
     "output_type": "stream",
     "text": [
      "Enter a numeric Value : 1.9\n",
      "The Cube of a Given Number 1.9 is 6.858999999999999\n"
     ]
    }
   ],
   "source": [
    "number1 = float(input(\"Enter a numeric Value : \"))\n",
    "\n",
    "cube1 = number1 ** 3\n",
    "\n",
    "print(\"The Cube of the Given Number {0} is {1}\".format(number1, cube1))"
   ]
  }
 ],
 "metadata": {
  "kernelspec": {
   "display_name": "Python 3 (ipykernel)",
   "language": "python",
   "name": "python3"
  },
  "language_info": {
   "codemirror_mode": {
    "name": "ipython",
    "version": 3
   },
   "file_extension": ".py",
   "mimetype": "text/x-python",
   "name": "python",
   "nbconvert_exporter": "python",
   "pygments_lexer": "ipython3",
   "version": "3.9.12"
  }
 },
 "nbformat": 4,
 "nbformat_minor": 5
}
