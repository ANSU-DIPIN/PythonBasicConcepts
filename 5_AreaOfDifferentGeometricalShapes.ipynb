{
 "cells": [
  {
   "cell_type": "code",
   "execution_count": 23,
   "id": "c8308cb1",
   "metadata": {},
   "outputs": [
    {
     "name": "stdout",
     "output_type": "stream",
     "text": [
      "Enter the name of the geometrical shape : square\n",
      "Enter the side length: 4\n",
      "The area of square is 16.\n"
     ]
    }
   ],
   "source": [
    "name = input(\"Enter the name of the geometrical shape : \")\n",
    "name = name.lower()\n",
    "\n",
    "if name == \"rectangle\":\n",
    "\tl = int(input(\"Enter the length: \"))\n",
    "\tb = int(input(\"Enter the breadth: \"))\n",
    "\t\n",
    "\t# calculate area of rectangle\n",
    "\trectangle_area = l * b\n",
    "\tprint(f\"The area of rectangle is {rectangle_area}.\")\n",
    "    \n",
    "elif name == \"circle\":\n",
    "\tr = int(input(\"Enter radius : \"))\n",
    "\tpi = 3.14\n",
    "\t\t\n",
    "\t# calculate area of circle\n",
    "\tcircle_area = pi * r * r\n",
    "\tprint(f\"The area of circle is {circle_area}.\")\n",
    "\n",
    "elif name == \"triangle\":\n",
    "\th = int(input(\"Enter the height : \"))\n",
    "\tb = int(input(\"Enter the breadth : \"))\n",
    "\t\n",
    "\t# calculate area of triangle\n",
    "\ttriangle_area = 0.5 * b * h\n",
    "\tprint(f\"The area of triangle is {triangle_area}.\")\n",
    "    \n",
    "elif name == \"square\":\n",
    "\ts = int(input(\"Enter the side length: \"))\n",
    "\t\n",
    "\t# calculate area of square\n",
    "\tsquare_area = s * s\n",
    "\tprint(f\"The area of square is {square_area}.\")\n",
    "\t\n",
    "elif name == 'parallelogram':\n",
    "\tb = int(input(\"Enter the base length: \"))\n",
    "\th = int(input(\"Enter the height length: \"))\n",
    "\t\n",
    "\t# calculate area of parallelogram\n",
    "\tparallelogram_area = b * h\n",
    "\tprint(f\"The area of parallelogram is {parallelogram_area}.\")\n",
    "\t\n",
    "else:\n",
    "\tprint(\"This shape is not available ! \")"
   ]
  }
 ],
 "metadata": {
  "kernelspec": {
   "display_name": "Python 3 (ipykernel)",
   "language": "python",
   "name": "python3"
  },
  "language_info": {
   "codemirror_mode": {
    "name": "ipython",
    "version": 3
   },
   "file_extension": ".py",
   "mimetype": "text/x-python",
   "name": "python",
   "nbconvert_exporter": "python",
   "pygments_lexer": "ipython3",
   "version": "3.9.12"
  }
 },
 "nbformat": 4,
 "nbformat_minor": 5
}
