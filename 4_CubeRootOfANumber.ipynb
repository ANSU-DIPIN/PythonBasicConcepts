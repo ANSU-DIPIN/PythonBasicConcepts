{
 "cells": [
  {
   "cell_type": "code",
   "execution_count": 18,
   "id": "1e54687b",
   "metadata": {},
   "outputs": [
    {
     "name": "stdout",
     "output_type": "stream",
     "text": [
      "Enter a numeric Value : 125\n",
      "The Cube root of the Given Number 125.0 is 5.0\n"
     ]
    }
   ],
   "source": [
    "number1 = float(input(\"Enter a numeric Value : \"))\n",
    "\n",
    "cube_root1 = number1**(1/3)\n",
    "\n",
    "\n",
    "print(\"The Cube root of the Given Number {0} is {1}\".format(number1, cube_root1))"
   ]
  }
 ],
 "metadata": {
  "kernelspec": {
   "display_name": "Python 3 (ipykernel)",
   "language": "python",
   "name": "python3"
  },
  "language_info": {
   "codemirror_mode": {
    "name": "ipython",
    "version": 3
   },
   "file_extension": ".py",
   "mimetype": "text/x-python",
   "name": "python",
   "nbconvert_exporter": "python",
   "pygments_lexer": "ipython3",
   "version": "3.9.12"
  }
 },
 "nbformat": 4,
 "nbformat_minor": 5
}
